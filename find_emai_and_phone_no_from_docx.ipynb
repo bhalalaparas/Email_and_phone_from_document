{
 "cells": [
  {
   "cell_type": "code",
   "execution_count": 1,
   "metadata": {},
   "outputs": [],
   "source": [
    "import docx2txt\n",
    "import re"
   ]
  },
  {
   "cell_type": "code",
   "execution_count": 2,
   "metadata": {},
   "outputs": [],
   "source": [
    "mytxt = docx2txt.process(r'E:\\paras\\PARAS_BHALALA.docx')"
   ]
  },
  {
   "cell_type": "code",
   "execution_count": 3,
   "metadata": {},
   "outputs": [
    {
     "data": {
      "text/plain": [
       "'PARAS BHALALA\\n\\n  Mobile: 7043310348\\n\\n Email: parasbhalala77@gmail.com   \\n\\n  Website:https://github.com/paras6478/  \\n\\nCAREER OBJECTIVE\\n\\nLooking for a position in the competitive corporate world to contribute to world achieving the corporate goals.\\n\\nACADEMICS\\n\\n\\t\\n\\n\\tDegree / Certificate\\n\\n\\tSchool / College \\n\\n\\tBoard / University\\n\\n\\tYear of Passing\\n\\n\\tPercentage / CGPA\\n\\n\\tBachelor of Engineering\\n\\n\\t\\xa0 (I.T.) \\n\\n\\t\\n\\n\\tGovernment Engineering College, Bhavnagar\\n\\n\\tGujarat Technological University\\n\\n\\t2019\\n\\n\\t7.40\\n\\n\\tHSC\\n\\n\\tCreative Science School, Rajkot\\n\\nGHSEB\\n\\n\\t2015\\n\\n\\t66%\\n\\n\\tSSC\\n\\n\\tShree Chital High School, Chital\\n\\n\\tGSEB\\n\\n\\t2013\\n\\n\\t78%\\n\\n\\t\\n\\nEXPERIENCE \\n\\n\\t\\tI have 6th month experience in Oracle DBA as Data Migration Engineer.\\n\\nTECHNICAL SKILLS\\n\\n\\tI have completed Machine Learning course on Couresera.\\n\\n\\tBasic knowledge of python and library[Pandas,Numpy].\\n\\n\\tData Migration and Linux Shell Scripting.\\n\\n\\tApplication Tools: Visual Studio Code, NetBeans,Keep Tool Hora, Anaconda Navigator.\\n\\n\\tDatabase: Oracle.\\n\\n\\n\\n\\n\\n\\n\\nINDUSTRIAL TRAINING &PROJECT\\n\\n\\tDeveloping text classification [Message Classification] model using NLTK and Sklearn in Machine Learning.\\n\\n\\tData Migration of Banking Sector.\\n\\n\\tDeveloping an online comparehensive “Easy Way Banking” in java, oracle database and Android. Easy Way Banking is a service provide by a bank that allows its customers to initiate inquiry & banking operation remotely using mobile interfaces. Easy Way Banking is usually available on a 24*7*365 days basis.\\n\\nACTIVITIES AND AWARDS\\n\\n\\tWorked as volunteer in State Level Tech-fest “Aashlesh” in Goverment Engineer College, Bhavnagar.\\n\\n\\tParticipated in Technical Event like C kidd++, Debugger in Tech-fest at Government Engineering College Bhavnagar.\\n\\n\\t\\n\\n\\t\\n\\nPERSONAL INFORMATION\\n\\n\\tDate of Birth\\n\\n\\t:\\n\\n25th November 1997\\n\\n\\tNationality\\n\\n\\t:\\n\\n\\tIndian\\n\\n\\tHobbies\\n\\n\\t:\\n\\n\\tPlaying Cricket, Reading\\n\\n\\tLanguage Known\\n\\n\\t:\\n\\n\\tCan Speak, Read & Write English, Hindi and Gujarati'"
      ]
     },
     "execution_count": 3,
     "metadata": {},
     "output_type": "execute_result"
    }
   ],
   "source": [
    "mytxt"
   ]
  },
  {
   "cell_type": "code",
   "execution_count": 4,
   "metadata": {},
   "outputs": [],
   "source": [
    "pattern = re.compile(r'[a-zA-Z0-9-\\.]+@[a-zA-Z-\\.]*\\.(com|edu|net)')\n",
    "matches = pattern.finditer(mytxt)"
   ]
  },
  {
   "cell_type": "code",
   "execution_count": 5,
   "metadata": {},
   "outputs": [
    {
     "name": "stdout",
     "output_type": "stream",
     "text": [
      "parasbhalala77@gmail.com\n"
     ]
    }
   ],
   "source": [
    "for match in matches:\n",
    "    print(match.group(0))"
   ]
  },
  {
   "cell_type": "code",
   "execution_count": 6,
   "metadata": {},
   "outputs": [],
   "source": [
    "phone_pat = re.compile(r'[0-9]{10}')\n",
    "phone_matches = phone_pat.finditer(mytxt)"
   ]
  },
  {
   "cell_type": "code",
   "execution_count": 7,
   "metadata": {},
   "outputs": [
    {
     "name": "stdout",
     "output_type": "stream",
     "text": [
      "7043310348\n"
     ]
    }
   ],
   "source": [
    "for match in phone_matches:\n",
    "    print(match.group(0))"
   ]
  },
  {
   "cell_type": "code",
   "execution_count": null,
   "metadata": {},
   "outputs": [],
   "source": []
  }
 ],
 "metadata": {
  "kernelspec": {
   "display_name": "Python 3",
   "language": "python",
   "name": "python3"
  },
  "language_info": {
   "codemirror_mode": {
    "name": "ipython",
    "version": 3
   },
   "file_extension": ".py",
   "mimetype": "text/x-python",
   "name": "python",
   "nbconvert_exporter": "python",
   "pygments_lexer": "ipython3",
   "version": "3.7.4"
  }
 },
 "nbformat": 4,
 "nbformat_minor": 2
}
